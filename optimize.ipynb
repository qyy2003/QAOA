{
 "cells": [
  {
   "cell_type": "code",
   "execution_count": 556,
   "metadata": {},
   "outputs": [],
   "source": [
    "import numpy as np\n",
    "import qutip as qt\n",
    "class graphic:\n",
    "    def __init__(self,n,edges):\n",
    "        self.n=n\n",
    "        self.G=np.zeros((self.n,self.n))\n",
    "        for[i,j] in edges:\n",
    "            self.G[i][j] = self.G[i][j] + 1\n",
    "    \n",
    "    def ask_min(self):\n",
    "        MASK=1<<self.n\n",
    "        ans=0\n",
    "        sum=0\n",
    "        for mask in range(MASK):\n",
    "            sum=0\n",
    "            for i in range(self.n):\n",
    "                for j in range(i+1,self.n):\n",
    "                    if(((mask&(1<<i))>>i)+((mask&(1<<j))>>j)==1):\n",
    "                        sum=sum+self.G[i][j]\n",
    "            if(sum>ans):\n",
    "                ans=sum\n",
    "        return ans\n",
    "    \n",
    "    def ask_C(self):\n",
    "        # opr=qt.zero(2)\n",
    "        # print(opr)\n",
    "        I=qt.tensor([qt.identity(2) for k in range(self.n)])\n",
    "        for i in range(self.n):\n",
    "            for j in range(i+1,self.n):\n",
    "                print(qt.tensor([qt.identity(2) if (k != i and k != j) else qt.sigmaz() for k in range(self.n)]))\n",
    "                opr=(I-qt.tensor([qt.identity(2) if (k != i and k != j) else qt.sigmaz() for k in range(self.n)]))*self.G[i][j]\n",
    "        return opr\n"
   ]
  },
  {
   "cell_type": "code",
   "execution_count": 557,
   "metadata": {},
   "outputs": [],
   "source": [
    "import numpy as np\n",
    "import random"
   ]
  },
  {
   "cell_type": "code",
   "execution_count": null,
   "metadata": {},
   "outputs": [],
   "source": [
    "sigma_z=np.array([[1,0],[0,-1]])\n",
    "sigma_x=np.array([[0,1],[1,0]])\n",
    "\n",
    "n=10\n",
    "p=3\n",
    "\n",
    "def generateGraph() :\n",
    "    m = random.randint(1, n*(n-1)/2)\n",
    "    edges = []\n",
    "    for i in range(m) :\n",
    "        x = random.randint(0, n-1)\n",
    "        y = x\n",
    "        while x == y:\n",
    "            y = random.randint(0, n-1)\n",
    "        edges.append([min(x, y), max(x, y)])\n",
    "    return edges\n",
    "\n",
    "graph = generateGraph()\n",
    "np.save('grapy_in',graph)\n",
    "graph = np.load('grapy_in.npy')\n",
    "print(ar_load)\n",
    "state0=np.array([1,0])\n",
    "state1=np.array([0,1])"
   ]
  },
  {
   "cell_type": "code",
   "execution_count": 559,
   "metadata": {},
   "outputs": [
    {
     "name": "stdout",
     "output_type": "stream",
     "text": [
      "(128, 128)\n"
     ]
    }
   ],
   "source": [
    "C=np.zeros((2**n,2**n))\n",
    "s=np.zeros(2**n)\n",
    "for edge in graph:\n",
    "    tmp_C = 1\n",
    "    for i in range(n):\n",
    "        tmp_C = np.kron(tmp_C, sigma_z if i in edge else np.eye(2))\n",
    "    C+=1/2*(np.eye(2**n)-tmp_C)\n",
    "print(C.shape)"
   ]
  },
  {
   "cell_type": "code",
   "execution_count": 560,
   "metadata": {},
   "outputs": [],
   "source": [
    "B=np.zeros((2**n,2**n))\n",
    "for i in range(n):\n",
    "    B+=np.kron(np.eye(2**i),np.kron(sigma_x,np.eye(2**(n-i-1))))"
   ]
  },
  {
   "cell_type": "code",
   "execution_count": 561,
   "metadata": {},
   "outputs": [],
   "source": [
    "from scipy.linalg import expm,logm\n",
    "def QAOA(gamma, beta):\n",
    "    qs=np.ones(2**n)/np.sqrt(2**n)\n",
    "    for i in range(p):\n",
    "        qs=np.dot(expm(-1j*gamma[i]*C),qs)\n",
    "        qs=np.dot(expm(-1j*beta[i]*B),qs)\n",
    "    # print(qs)\n",
    "    return np.matmul(qs.conj(),np.matmul(C,qs))"
   ]
  },
  {
   "cell_type": "code",
   "execution_count": 562,
   "metadata": {},
   "outputs": [],
   "source": [
    "import numpy as np\n",
    "from queue import PriorityQueue as PQ\n",
    "import math\n",
    "from scipy.integrate import quad\n",
    "import matplotlib.pyplot as plt\n",
    "from scipy import optimize as opt\n",
    "\n",
    "def objective(params):\n",
    "    #print(params);\n",
    "    gamma = params[0:p]\n",
    "    gamma=np.clip(gamma, 0.01, 2*np.pi)\n",
    "    beta = params[p:]\n",
    "    # print(\"gamma:\",gamma)\n",
    "    beta=np.clip(beta, 0.01, np.pi)\n",
    "    # print(\"beta\",beta)\n",
    "    return -QAOA(gamma, beta)\n"
   ]
  },
  {
   "cell_type": "code",
   "execution_count": 563,
   "metadata": {},
   "outputs": [],
   "source": [
    "def printQAOA(gamma, beta):\n",
    "    qs=np.ones(2**n)/np.sqrt(2**n)\n",
    "    # print(np.dot(qs,qs))\n",
    "    for i in range(p):\n",
    "        qs=np.dot(expm(-1j*gamma[i]*C),qs)\n",
    "        qs=np.dot(expm(-1j*beta[i]*B),qs)\n",
    "    return np.matmul(qs.conj(),np.matmul(C,qs))\n"
   ]
  },
  {
   "cell_type": "code",
   "execution_count": 564,
   "metadata": {},
   "outputs": [],
   "source": [
    "gamma = np.zeros(p)\n",
    "beta = np.zeros(p)\n",
    "grid = 7\n",
    "max_ret = 0\n",
    "def dfs(w = 0, i = 0):\n",
    "    global max_ret\n",
    "    if i == p:\n",
    "        if w == 0:\n",
    "            dfs(1, 0)\n",
    "            return\n",
    "        else :\n",
    "            ret = QAOA(gamma, beta)\n",
    "            max_ret = max(max_ret, ret)\n",
    "            return\n",
    "    if w == 0:\n",
    "        for j in range(grid) :\n",
    "            gamma[i] = np.pi * 2 / grid * j\n",
    "            dfs(w, i+1)\n",
    "    else :\n",
    "        for j in range(grid) :\n",
    "            beta[i] = np.pi * 2 / grid * j\n",
    "            dfs(w, i+1)\n",
    "\n"
   ]
  },
  {
   "cell_type": "code",
   "execution_count": 565,
   "metadata": {},
   "outputs": [
    {
     "name": "stdout",
     "output_type": "stream",
     "text": [
      "{'g0': <hyperopt.pyll.base.Apply object at 0x0000028B004B4FD0>, 'b0': <hyperopt.pyll.base.Apply object at 0x0000028B004B4E50>, 'g1': <hyperopt.pyll.base.Apply object at 0x0000028B0052ADF0>, 'b1': <hyperopt.pyll.base.Apply object at 0x0000028B0052A790>, 'g2': <hyperopt.pyll.base.Apply object at 0x0000028B0052AC40>, 'b2': <hyperopt.pyll.base.Apply object at 0x0000028B0052A4F0>}\n"
     ]
    }
   ],
   "source": [
    "## using https://github.com/hyperopt/hyperopt/wiki/FMin\n",
    "import math\n",
    "import numpy as np\n",
    "from scipy.integrate import quad\n",
    "from hyperopt import fmin, tpe, hp\n",
    "\n",
    "\n",
    "def objective1(params):\n",
    "    #print(params);\n",
    "    gamma=[]\n",
    "    beta=[]\n",
    "    for i in range(p):\n",
    "        gamma.append(params[\"g\"+str(i)])\n",
    "        beta.append(params[\"b\"+str(i)])\n",
    "    return -QAOA(gamma, beta)\n",
    "\n",
    "space=[]\n",
    "for i in range(p):\n",
    "    space.append((\"g\"+str(i),hp.uniform('g'+str(i), 0, 2*np.pi)))\n",
    "    space.append((\"b\"+str(i),hp.uniform('b'+str(i), 0, 2*np.pi)))\n",
    "space=dict(space)\n",
    "print(space)\n"
   ]
  },
  {
   "cell_type": "code",
   "execution_count": 566,
   "metadata": {},
   "outputs": [
    {
     "name": "stdout",
     "output_type": "stream",
     "text": [
      "[[1, 4], [3, 4], [0, 1], [0, 1], [0, 6], [0, 4], [0, 5], [4, 5], [4, 6]]\n",
      "8.0\n",
      "100%|██████████| 500/500 [00:20<00:00, 24.83trial/s, best loss: -5.988498270341507]\n",
      "{'b0': 3.119558469874406, 'b1': 1.2611487908980574, 'b2': 1.7060010599388717, 'g0': 5.6933375258414065, 'g1': 6.076532958197273, 'g2': 1.5021236112905043}\n",
      "basinhopping step 0: f -6.69777\n",
      "basinhopping step 1: f -6.69777 trial_f -6.69777 accepted 1  lowest_f -6.69777\n",
      "basinhopping step 2: f -6.69777 trial_f -5.93984 accepted 0  lowest_f -6.69777\n",
      "basinhopping step 3: f -6.69777 trial_f -5.96484 accepted 0  lowest_f -6.69777\n",
      "basinhopping step 4: f -6.69222 trial_f -6.69222 accepted 1  lowest_f -6.69777\n",
      "basinhopping step 5: f -6.69222 trial_f -5.96023 accepted 0  lowest_f -6.69777\n",
      "basinhopping step 6: f -6.69222 trial_f -5.96023 accepted 0  lowest_f -6.69777\n",
      "basinhopping step 7: f -6.69777 trial_f -6.69777 accepted 1  lowest_f -6.69777\n",
      "basinhopping step 8: f -6.69777 trial_f -5.96484 accepted 0  lowest_f -6.69777\n"
     ]
    }
   ],
   "source": [
    "print(graph)\n",
    "gra = graphic(n, graph)\n",
    "real_ans = gra.ask_min()\n",
    "print(real_ans)\n",
    "\n",
    "best = fmin(\n",
    "    fn=objective1,\n",
    "    space=space,\n",
    "    algo=tpe.suggest,\n",
    "    max_evals=500\n",
    ")\n",
    "print(best)\n",
    "\n",
    "\n",
    "result=opt.basinhopping(objective,x0=np.array([np.random.rand(2*p)]), niter=100, niter_success=10, minimizer_kwargs={\"method\":\"L-BFGS-B\"}, disp=1)\n",
    "print(result)\n",
    "\n",
    "dfs(0, 0)\n",
    "print(max_ret)\n"
   ]
  }
 ],
 "metadata": {
  "kernelspec": {
   "display_name": "Python 3 (ipykernel)",
   "language": "python",
   "name": "python3"
  },
  "language_info": {
   "codemirror_mode": {
    "name": "ipython",
    "version": 3
   },
   "file_extension": ".py",
   "mimetype": "text/x-python",
   "name": "python",
   "nbconvert_exporter": "python",
   "pygments_lexer": "ipython3",
   "version": "3.8.16"
  },
  "vscode": {
   "interpreter": {
    "hash": "05c1e9a5c9aac078e9f4580a9ffb102c1739d6fdd93a907a9d69915ff04a7cb4"
   }
  }
 },
 "nbformat": 4,
 "nbformat_minor": 4
}
